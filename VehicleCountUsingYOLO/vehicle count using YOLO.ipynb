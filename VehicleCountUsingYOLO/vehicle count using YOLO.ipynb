{
 "cells": [
  {
   "cell_type": "code",
   "execution_count": 7,
   "id": "a325d104-555c-465a-b933-15690fc0542b",
   "metadata": {},
   "outputs": [
    {
     "ename": "IndexError",
     "evalue": "invalid index to scalar variable.",
     "output_type": "error",
     "traceback": [
      "\u001b[1;31m---------------------------------------------------------------------------\u001b[0m",
      "\u001b[1;31mIndexError\u001b[0m                                Traceback (most recent call last)",
      "Cell \u001b[1;32mIn[7], line 13\u001b[0m\n\u001b[0;32m     11\u001b[0m \u001b[38;5;66;03m# Get the indices of the output layers\u001b[39;00m\n\u001b[0;32m     12\u001b[0m outs_info \u001b[38;5;241m=\u001b[39m net\u001b[38;5;241m.\u001b[39mgetUnconnectedOutLayers()\n\u001b[1;32m---> 13\u001b[0m output_layers \u001b[38;5;241m=\u001b[39m \u001b[43m[\u001b[49m\u001b[43mouts_info\u001b[49m\u001b[43m[\u001b[49m\u001b[43mi\u001b[49m\u001b[43m]\u001b[49m\u001b[43m[\u001b[49m\u001b[38;5;241;43m0\u001b[39;49m\u001b[43m]\u001b[49m\u001b[43m \u001b[49m\u001b[38;5;241;43m-\u001b[39;49m\u001b[43m \u001b[49m\u001b[38;5;241;43m1\u001b[39;49m\u001b[43m \u001b[49m\u001b[38;5;28;43;01mfor\u001b[39;49;00m\u001b[43m \u001b[49m\u001b[43mi\u001b[49m\u001b[43m \u001b[49m\u001b[38;5;129;43;01min\u001b[39;49;00m\u001b[43m \u001b[49m\u001b[38;5;28;43mrange\u001b[39;49m\u001b[43m(\u001b[49m\u001b[38;5;28;43mlen\u001b[39;49m\u001b[43m(\u001b[49m\u001b[43mouts_info\u001b[49m\u001b[43m)\u001b[49m\u001b[43m)\u001b[49m\u001b[43m]\u001b[49m\n\u001b[0;32m     16\u001b[0m \u001b[38;5;66;03m# Load video\u001b[39;00m\n\u001b[0;32m     17\u001b[0m cap \u001b[38;5;241m=\u001b[39m cv2\u001b[38;5;241m.\u001b[39mVideoCapture(\u001b[38;5;124m\"\u001b[39m\u001b[38;5;124mpexels-wallpapers-hub-16385740 (240p).mp4\u001b[39m\u001b[38;5;124m\"\u001b[39m)\n",
      "Cell \u001b[1;32mIn[7], line 13\u001b[0m, in \u001b[0;36m<listcomp>\u001b[1;34m(.0)\u001b[0m\n\u001b[0;32m     11\u001b[0m \u001b[38;5;66;03m# Get the indices of the output layers\u001b[39;00m\n\u001b[0;32m     12\u001b[0m outs_info \u001b[38;5;241m=\u001b[39m net\u001b[38;5;241m.\u001b[39mgetUnconnectedOutLayers()\n\u001b[1;32m---> 13\u001b[0m output_layers \u001b[38;5;241m=\u001b[39m [\u001b[43mouts_info\u001b[49m\u001b[43m[\u001b[49m\u001b[43mi\u001b[49m\u001b[43m]\u001b[49m\u001b[43m[\u001b[49m\u001b[38;5;241;43m0\u001b[39;49m\u001b[43m]\u001b[49m \u001b[38;5;241m-\u001b[39m \u001b[38;5;241m1\u001b[39m \u001b[38;5;28;01mfor\u001b[39;00m i \u001b[38;5;129;01min\u001b[39;00m \u001b[38;5;28mrange\u001b[39m(\u001b[38;5;28mlen\u001b[39m(outs_info))]\n\u001b[0;32m     16\u001b[0m \u001b[38;5;66;03m# Load video\u001b[39;00m\n\u001b[0;32m     17\u001b[0m cap \u001b[38;5;241m=\u001b[39m cv2\u001b[38;5;241m.\u001b[39mVideoCapture(\u001b[38;5;124m\"\u001b[39m\u001b[38;5;124mpexels-wallpapers-hub-16385740 (240p).mp4\u001b[39m\u001b[38;5;124m\"\u001b[39m)\n",
      "\u001b[1;31mIndexError\u001b[0m: invalid index to scalar variable."
     ]
    }
   ],
   "source": [
    "import cv2\n",
    "import numpy as np\n",
    "import time\n",
    "import tensorflow as tf\n",
    "# Load YOLO\n",
    "net = cv2.dnn.readNet(\"ryolov3.weights\", \"yolov3.cfg\")\n",
    "classes = []\n",
    "with open(\"coco-labels\", \"r\") as f:\n",
    "    classes = [line.strip() for line in f.readlines()]\n",
    "layer_names = net.getLayerNames()\n",
    "# Get the indices of the output layers\n",
    "outs_info = net.getUnconnectedOutLayers()\n",
    "output_layers = [outs_info[i][0] - 1 for i in range(len(outs_info))]\n",
    "\n",
    "\n",
    "# Load video\n",
    "cap = cv2.VideoCapture(\"pexels-wallpapers-hub-16385740 (240p).mp4\")\n",
    "starting_time = time.time()\n",
    "frame_id = 0\n",
    "\n",
    "# Loop through frames\n",
    "while True:\n",
    "    ret, frame = cap.read()\n",
    "    frame_id += 1\n",
    "\n",
    "    if not ret:\n",
    "        break\n",
    "\n",
    "    height, width, channels = frame.shape\n",
    "\n",
    "    # Detecting objects\n",
    "    blob = cv2.dnn.blobFromImage(frame, 0.00392, (416, 416), (0, 0, 0), True, crop=False)\n",
    "    net.setInput(blob)\n",
    "    outs = net.forward(output_layers)\n",
    "\n",
    "    # Count vehicles\n",
    "    count = 0\n",
    "    for out in outs:\n",
    "        for detection in out:\n",
    "            scores = detection[5:]\n",
    "            class_id = np.argmax(scores)\n",
    "            confidence = scores[class_id]\n",
    "            if confidence > 0.5 and class_id == 2:  # Class ID 2 corresponds to cars\n",
    "                count += 1\n",
    "\n",
    "    # Display vehicle count\n",
    "    cv2.putText(frame, \"Vehicle Count: \" + str(count), (10, 50), cv2.FONT_HERSHEY_SIMPLEX, 1, (0, 255, 255), 2)\n",
    "\n",
    "    # Show frame\n",
    "    cv2.imshow(\"Vehicle Count\", frame)\n",
    "    key = cv2.waitKey(1) & 0xFF\n",
    "    if key == ord('q'):\n",
    "        break\n",
    "\n",
    "# Release video capture and close windows\n",
    "cap.release()\n",
    "cv2.destroyAllWindows()\n"
   ]
  },
  {
   "cell_type": "code",
   "execution_count": 5,
   "id": "02604eab-6349-4e67-a602-f006f118d011",
   "metadata": {},
   "outputs": [
    {
     "name": "stdout",
     "output_type": "stream",
     "text": [
      "Requirement already satisfied: darknet in c:\\users\\pabba\\anaconda3\\envs\\abbas\\lib\\site-packages (0.3)\n"
     ]
    }
   ],
   "source": [
    "!pip install darknet"
   ]
  },
  {
   "cell_type": "code",
   "execution_count": null,
   "id": "ebc54758-42f0-4c91-81d7-479df922c5ca",
   "metadata": {},
   "outputs": [],
   "source": []
  }
 ],
 "metadata": {
  "kernelspec": {
   "display_name": "Python 3 (ipykernel)",
   "language": "python",
   "name": "python3"
  },
  "language_info": {
   "codemirror_mode": {
    "name": "ipython",
    "version": 3
   },
   "file_extension": ".py",
   "mimetype": "text/x-python",
   "name": "python",
   "nbconvert_exporter": "python",
   "pygments_lexer": "ipython3",
   "version": "3.11.7"
  }
 },
 "nbformat": 4,
 "nbformat_minor": 5
}
